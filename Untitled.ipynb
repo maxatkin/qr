{
 "cells": [
  {
   "cell_type": "code",
   "execution_count": 1,
   "metadata": {},
   "outputs": [],
   "source": [
    "import depender as dp"
   ]
  },
  {
   "cell_type": "code",
   "execution_count": 5,
   "metadata": {},
   "outputs": [],
   "source": [
    "reload(dp)\n",
    "@dp.log\n",
    "def foo(a, b, *k, **args):\n",
    "    return a + b + args.get(\"c\", 0)\n",
    "\n",
    "@dp.log\n",
    "def bar(x, y):\n",
    "    return float(x)/len(y)\n",
    "\n",
    "@dp.log\n",
    "def baz(a, b):\n",
    "    return a**3 + b\n"
   ]
  },
  {
   "cell_type": "code",
   "execution_count": 4,
   "metadata": {
    "deletable": false,
    "editable": false,
    "run_control": {
     "frozen": true
    }
   },
   "outputs": [
    {
     "data": {
      "text/html": [
       "\n",
       "<style>\n",
       ".accordion {\n",
       "    background-color: #eee;\n",
       "    color: #444;\n",
       "    cursor: auto;\n",
       "    padding: 3px;\n",
       "    width: 100%;\n",
       "    text-align: left;\n",
       "    border: none;\n",
       "    outline: none;\n",
       "    transition: 0.4s;\n",
       "    font-size: 10px;    \n",
       "}\n",
       "\n",
       ".active, .accordion:hover {\n",
       "    background-color: #ccc;\n",
       "}\n",
       "\n",
       ".panel {\n",
       "    padding: 0 18px;\n",
       "    background-color: white;\n",
       "    display: block;\n",
       "    overflow: visible;\n",
       "    font-size: 10px;        \n",
       "}\n",
       "</style>\n",
       "\n",
       "<button class=\"accordion\">foo</button>\n",
       "<div class=\"panel\">\n",
       "  <p>a: 5<br>k: ()<br>b: 2<br>args: {'c': 3}<br></p>\n",
       "</div>\n",
       "\n",
       "<button class=\"accordion\">bar</button>\n",
       "<div class=\"panel\">\n",
       "  <p>y: <div>\n",
       "<style>\n",
       "    .dataframe thead tr:only-child th {\n",
       "        text-align: right;\n",
       "    }\n",
       "\n",
       "    .dataframe thead th {\n",
       "        text-align: left;\n",
       "    }\n",
       "\n",
       "    .dataframe tbody tr th {\n",
       "        vertical-align: top;\n",
       "    }\n",
       "</style>\n",
       "<table border=\"1\" class=\"dataframe\">\n",
       "  <thead>\n",
       "    <tr style=\"text-align: right;\">\n",
       "      <th></th>\n",
       "      <th>0</th>\n",
       "      <th>1</th>\n",
       "      <th>2</th>\n",
       "      <th>3</th>\n",
       "      <th>4</th>\n",
       "      <th>5</th>\n",
       "    </tr>\n",
       "  </thead>\n",
       "  <tbody>\n",
       "    <tr>\n",
       "      <th>0</th>\n",
       "      <td>1</td>\n",
       "      <td>2</td>\n",
       "      <td>3</td>\n",
       "      <td>4</td>\n",
       "      <td>5</td>\n",
       "      <td>5</td>\n",
       "    </tr>\n",
       "    <tr>\n",
       "      <th>1</th>\n",
       "      <td>1</td>\n",
       "      <td>5</td>\n",
       "      <td>5</td>\n",
       "      <td>0</td>\n",
       "      <td>0</td>\n",
       "      <td>2</td>\n",
       "    </tr>\n",
       "  </tbody>\n",
       "</table>\n",
       "</div><br></p>\n",
       "</div>\n",
       "\n",
       "<button class=\"accordion\">foo</button>\n",
       "<div class=\"panel\">\n",
       "  <p>a: 5<br>k: ()<br>b: 2<br>args: {'c': 3}<br></p>\n",
       "</div>\n"
      ],
      "text/plain": [
       "<IPython.core.display.HTML object>"
      ]
     },
     "execution_count": 4,
     "metadata": {},
     "output_type": "execute_result"
    }
   ],
   "source": [
    "import pandas as pd\n",
    "import numpy as np\n",
    "df = pd.DataFrame(np.array([[1,2,3,4,5,5],[1,5,5,0,0,2]]))\n",
    "\n",
    "im = foo(5, c = 3, b = 2)\n",
    "c = baz(im, bar(im, df))\n",
    "c.render_inputs()"
   ]
  },
  {
   "cell_type": "code",
   "execution_count": 7,
   "metadata": {},
   "outputs": [
    {
     "data": {
      "text/html": [
       "1005.0"
      ],
      "text/plain": [
       "<depender.Capture at 0xb3d5898>"
      ]
     },
     "execution_count": 7,
     "metadata": {},
     "output_type": "execute_result"
    }
   ],
   "source": [
    "import pandas as pd\n",
    "import numpy as np\n",
    "df = pd.DataFrame(np.array([[1,2,3,4,5,5],[1,5,5,0,0,2]]))\n",
    "\n",
    "im = foo(5, c = 3, b = 2)\n",
    "c = baz(im, bar(im, df))\n",
    "c.render_inputs()\n",
    "c"
   ]
  }
 ],
 "metadata": {
  "celltoolbar": "Edit Metadata",
  "kernelspec": {
   "display_name": "Python 2",
   "language": "python",
   "name": "python2"
  },
  "language_info": {
   "codemirror_mode": {
    "name": "ipython",
    "version": 2
   },
   "file_extension": ".py",
   "mimetype": "text/x-python",
   "name": "python",
   "nbconvert_exporter": "python",
   "pygments_lexer": "ipython2",
   "version": "2.7.13"
  }
 },
 "nbformat": 4,
 "nbformat_minor": 2
}
